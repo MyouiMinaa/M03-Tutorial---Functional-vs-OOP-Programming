{
 "cells": [
  {
   "cell_type": "code",
   "execution_count": 10,
   "id": "b7c6300e-7985-4f29-8ba1-1bef2b01c519",
   "metadata": {},
   "outputs": [
    {
     "name": "stdin",
     "output_type": "stream",
     "text": [
      "How many elements are there:  5\n",
      "What are the elements:  1 2 3 4 5\n",
      "What element would you like to search for:  4\n"
     ]
    },
    {
     "name": "stdout",
     "output_type": "stream",
     "text": [
      "3\n"
     ]
    }
   ],
   "source": [
    "class Solution:\n",
    "    def binarysearch(self, arr, n, k):\n",
    "        def binarySearch(v, To_Find):\n",
    "            lo = 0\n",
    "            hi = len(v) - 1\n",
    "            while hi - lo > 1:\n",
    "                mid = (hi + lo) // 2\n",
    "                if v[mid] < To_Find:\n",
    "                    lo = mid + 1\n",
    "                else:\n",
    "                    hi = mid\n",
    "\n",
    "            if v[lo] == To_Find:\n",
    "                return lo\n",
    "            elif v[hi] == To_Find:\n",
    "                return hi\n",
    "            else:\n",
    "                return -1\n",
    "\n",
    "        return binarySearch(arr, k)\n",
    "\n",
    "def main():\n",
    "    try:\n",
    "        n = int(input(\"How many elements are there: \").strip())\n",
    "        arr = list(map(int, input(\"What are the elements: \").strip().split()))\n",
    "        k = int(input(\"What element would you like to search for: \").strip())\n",
    "\n",
    "        arr.sort()\n",
    "\n",
    "        solution = Solution()\n",
    "        result = solution.binarysearch(arr, n, k)\n",
    "\n",
    "        print(result if result != -1 else \"Not Found\")\n",
    "    \n",
    "    except ValueError as ve:\n",
    "        print(f\"Error: {ve}\")\n",
    "\n",
    "if __name__ == \"__main__\":\n",
    "    main()\n"
   ]
  },
  {
   "cell_type": "code",
   "execution_count": 12,
   "id": "4018116d-18e7-4a18-80a3-15b344dffc53",
   "metadata": {},
   "outputs": [
    {
     "name": "stdin",
     "output_type": "stream",
     "text": [
      "Enter the number of elements:  5\n",
      "Enter 5 elements (0s, 1s, 2s):  0 2 1 2 0\n"
     ]
    },
    {
     "name": "stdout",
     "output_type": "stream",
     "text": [
      "Sorted array: [0, 0, 1, 2, 2]\n"
     ]
    }
   ],
   "source": [
    "class Solution:\n",
    "    def sort012(self, arr, n):\n",
    "        low = 0\n",
    "        high = n - 1\n",
    "        mid = 0\n",
    "        \n",
    "        while mid <= high:\n",
    "            if arr[mid] == 0:\n",
    "                arr[mid], arr[low] = arr[low], arr[mid]\n",
    "                mid += 1\n",
    "                low += 1\n",
    "            elif arr[mid] == 1:\n",
    "                mid += 1\n",
    "            else:\n",
    "                arr[mid], arr[high] = arr[high], arr[mid]\n",
    "                high -= 1\n",
    "\n",
    "    def take_input_and_sort(self):\n",
    "        try:\n",
    "            n = int(input(\"How many elements are there: \").strip())\n",
    "            arr = list(map(int, input(f\"Enter {n} elements (must b): \").strip().split()))\n",
    "\n",
    "            self.sort012(arr, n)\n",
    "\n",
    "            print(\"Sorted array:\", arr)\n",
    "\n",
    "        except ValueError as ve:\n",
    "            print(f\"Error: {ve}\")\n",
    "\n",
    "# Example usage\n",
    "if __name__ == \"__main__\":\n",
    "    solution = Solution()\n",
    "    solution.take_input_and_sort()"
   ]
  },
  {
   "cell_type": "code",
   "execution_count": null,
   "id": "992a449c-b642-4bdb-b97c-56dc9983ca28",
   "metadata": {},
   "outputs": [],
   "source": []
  }
 ],
 "metadata": {
  "kernelspec": {
   "display_name": "Python 3 (ipykernel)",
   "language": "python",
   "name": "python3"
  },
  "language_info": {
   "codemirror_mode": {
    "name": "ipython",
    "version": 3
   },
   "file_extension": ".py",
   "mimetype": "text/x-python",
   "name": "python",
   "nbconvert_exporter": "python",
   "pygments_lexer": "ipython3",
   "version": "3.11.7"
  }
 },
 "nbformat": 4,
 "nbformat_minor": 5
}
